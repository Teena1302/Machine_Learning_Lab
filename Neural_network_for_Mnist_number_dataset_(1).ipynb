{
  "nbformat": 4,
  "nbformat_minor": 0,
  "metadata": {
    "kernelspec": {
      "name": "python3",
      "display_name": "Python 3"
    },
    "toc": {
      "nav_menu": {},
      "number_sections": true,
      "sideBar": true,
      "skip_h1_title": false,
      "toc_cell": true,
      "toc_position": {},
      "toc_section_display": "block",
      "toc_window_display": false
    },
    "colab": {
      "provenance": [],
      "include_colab_link": true
    },
    "accelerator": "GPU"
  },
  "cells": [
    {
      "cell_type": "markdown",
      "metadata": {
        "id": "view-in-github",
        "colab_type": "text"
      },
      "source": [
        "<a href=\"https://colab.research.google.com/github/Teena1302/Machine_Learning_Lab/blob/main/Neural_network_for_Mnist_number_dataset_(1).ipynb\" target=\"_parent\"><img src=\"https://colab.research.google.com/assets/colab-badge.svg\" alt=\"Open In Colab\"/></a>"
      ]
    },
    {
      "cell_type": "markdown",
      "source": [
        "\n",
        "\n",
        "\n",
        "\n",
        "\n"
      ],
      "metadata": {
        "id": "aK_1LHdwQpF9"
      }
    },
    {
      "cell_type": "markdown",
      "metadata": {
        "id": "view-in-github"
      },
      "source": [
        "<a href=\"https://colab.research.google.com/github/Mustafalw02/Machine-Learning-Lab-Work/blob/master/Neural_network_for_Mnist_number_dataset.ipynb\" target=\"_parent\"><img src=\"https://colab.research.google.com/assets/colab-badge.svg\" alt=\"Open In Colab\"/></a>"
      ]
    },
    {
      "cell_type": "markdown",
      "metadata": {
        "toc": true,
        "id": "zQvT7bhRzp4e"
      },
      "source": [
        "<h1>Table of Contents<span class=\"tocSkip\"></span></h1>\n",
        "<div class=\"toc\" style=\"margin-top: 1em;\"><ul class=\"toc-item\"><li><span><a href=\"#Loading-the-MNIST-dataset-in-Keras\" data-toc-modified-id=\"Loading-the-MNIST-dataset-in-Keras-1\"><span class=\"toc-item-num\">1&nbsp;&nbsp;</span>Loading the MNIST dataset in Keras</a></span></li><li><span><a href=\"#The-network-architecture\" data-toc-modified-id=\"The-network-architecture-2\"><span class=\"toc-item-num\">2&nbsp;&nbsp;</span>The network architecture</a></span></li><li><span><a href=\"#The-compilation-step\" data-toc-modified-id=\"The-compilation-step-3\"><span class=\"toc-item-num\">3&nbsp;&nbsp;</span>The compilation step</a></span></li><li><span><a href=\"#Preparing-the-image-data\" data-toc-modified-id=\"Preparing-the-image-data-4\"><span class=\"toc-item-num\">4&nbsp;&nbsp;</span>Preparing the image data</a></span></li><li><span><a href=\"#Preparing-the-labels\" data-toc-modified-id=\"Preparing-the-labels-5\"><span class=\"toc-item-num\">5&nbsp;&nbsp;</span>Preparing the labels</a></span></li><li><span><a href=\"#Training-and-Testing\" data-toc-modified-id=\"Training-and-Testing-6\"><span class=\"toc-item-num\">6&nbsp;&nbsp;</span>Training and Testing</a></span></li></ul></div>"
      ]
    },
    {
      "cell_type": "markdown",
      "metadata": {
        "id": "GSee4zKUzp4i"
      },
      "source": [
        "# Loading the MNIST dataset in Keras"
      ]
    },
    {
      "cell_type": "code",
      "metadata": {
        "id": "6a8IveFHzp4l"
      },
      "source": [
        "from keras.datasets import mnist"
      ],
      "execution_count": 1,
      "outputs": []
    },
    {
      "cell_type": "code",
      "metadata": {
        "id": "LQPmnZ8xzp4v",
        "colab": {
          "base_uri": "https://localhost:8080/"
        },
        "outputId": "fb2aa02f-71a0-4c71-c9bf-475f83763c1b"
      },
      "source": [
        "(train_images, train_labels), (test_images, test_labels) = mnist.load_data()"
      ],
      "execution_count": 2,
      "outputs": [
        {
          "output_type": "stream",
          "name": "stdout",
          "text": [
            "Downloading data from https://storage.googleapis.com/tensorflow/tf-keras-datasets/mnist.npz\n",
            "11490434/11490434 [==============================] - 0s 0us/step\n"
          ]
        }
      ]
    },
    {
      "cell_type": "markdown",
      "metadata": {
        "id": "mnZfS9HYzp4z"
      },
      "source": [
        "- The images are encoded as Numpy arrays, and the labels are an array of digits, ranging from 0 to 9."
      ]
    },
    {
      "cell_type": "code",
      "metadata": {
        "id": "VFdoffSmzp41",
        "colab": {
          "base_uri": "https://localhost:8080/"
        },
        "outputId": "d6298d4c-4b94-4344-d5ca-99fa38b4da16"
      },
      "source": [
        "train_images.shape\n"
      ],
      "execution_count": 3,
      "outputs": [
        {
          "output_type": "execute_result",
          "data": {
            "text/plain": [
              "(60000, 28, 28)"
            ]
          },
          "metadata": {},
          "execution_count": 3
        }
      ]
    },
    {
      "cell_type": "code",
      "metadata": {
        "id": "tD65nC-vzp45",
        "colab": {
          "base_uri": "https://localhost:8080/"
        },
        "outputId": "4ed86240-0fdb-46ac-cfcf-9388e83bd752"
      },
      "source": [
        "len(train_labels)"
      ],
      "execution_count": 4,
      "outputs": [
        {
          "output_type": "execute_result",
          "data": {
            "text/plain": [
              "60000"
            ]
          },
          "metadata": {},
          "execution_count": 4
        }
      ]
    },
    {
      "cell_type": "code",
      "metadata": {
        "id": "IX9LpWNazp4_",
        "colab": {
          "base_uri": "https://localhost:8080/"
        },
        "outputId": "4438368d-6f85-4a00-d182-eaaf0199a248"
      },
      "source": [
        "train_labels"
      ],
      "execution_count": 5,
      "outputs": [
        {
          "output_type": "execute_result",
          "data": {
            "text/plain": [
              "array([5, 0, 4, ..., 5, 6, 8], dtype=uint8)"
            ]
          },
          "metadata": {},
          "execution_count": 5
        }
      ]
    },
    {
      "cell_type": "code",
      "metadata": {
        "id": "SG0L5p4Dzp5D",
        "colab": {
          "base_uri": "https://localhost:8080/"
        },
        "outputId": "1b4d829b-a297-4d54-e22f-fef44b05e80b"
      },
      "source": [
        "test_images.shape"
      ],
      "execution_count": 6,
      "outputs": [
        {
          "output_type": "execute_result",
          "data": {
            "text/plain": [
              "(10000, 28, 28)"
            ]
          },
          "metadata": {},
          "execution_count": 6
        }
      ]
    },
    {
      "cell_type": "code",
      "metadata": {
        "id": "MimOH_Xnzp5I",
        "colab": {
          "base_uri": "https://localhost:8080/"
        },
        "outputId": "6cadabc9-0789-4d62-96ff-aeca81d29a5b"
      },
      "source": [
        "len(test_labels)"
      ],
      "execution_count": 7,
      "outputs": [
        {
          "output_type": "execute_result",
          "data": {
            "text/plain": [
              "10000"
            ]
          },
          "metadata": {},
          "execution_count": 7
        }
      ]
    },
    {
      "cell_type": "code",
      "metadata": {
        "id": "8EHR0v0Bzp5M",
        "colab": {
          "base_uri": "https://localhost:8080/"
        },
        "outputId": "af23dbba-a6f6-4e37-c517-e179566b23f7"
      },
      "source": [
        "test_labels"
      ],
      "execution_count": 8,
      "outputs": [
        {
          "output_type": "execute_result",
          "data": {
            "text/plain": [
              "array([7, 2, 1, ..., 4, 5, 6], dtype=uint8)"
            ]
          },
          "metadata": {},
          "execution_count": 8
        }
      ]
    },
    {
      "cell_type": "markdown",
      "metadata": {
        "id": "s0Tp6nDRzp5R"
      },
      "source": [
        "Let's build the network"
      ]
    },
    {
      "cell_type": "markdown",
      "metadata": {
        "id": "WxbJXg2Czp5T"
      },
      "source": [
        "# The network architecture"
      ]
    },
    {
      "cell_type": "markdown",
      "metadata": {
        "id": "kGCxNrDdzp5U"
      },
      "source": [
        "- The core building block of neural networks is the **layer**, a data-processing module that you can think of as a filter for data.\n",
        "    - Some data goes in, and it comes out in a more useful form.\n",
        "    - Layers extract **representations** (hopefully, meaningful for the data problem at hand) out of the data fed into them.\n",
        "    \n",
        "- Most of deep learning consists of chaining together simple layers that will implement a form of progressive **data distillation**.\n",
        "- A deep learning model is like a sieve for data-processing, made of a succession of increasingly refined data filters--**the layers**."
      ]
    },
    {
      "cell_type": "code",
      "metadata": {
        "id": "uyUqGjPTzp5V"
      },
      "source": [
        "from keras import models\n",
        "from keras import layers"
      ],
      "execution_count": 9,
      "outputs": []
    },
    {
      "cell_type": "code",
      "metadata": {
        "id": "NEVk0S9_zp5a",
        "colab": {
          "base_uri": "https://localhost:8080/"
        },
        "outputId": "5fe71be5-a28b-4023-c98b-25f88c36c8e0"
      },
      "source": [
        "network = models.Sequential()\n",
        "# Dense(32) is a fully-connected layer with 32 hidden units.\n",
        "# in the first layer, you must specify the expected input data shape :\n",
        "# here, 28 X 28=784 -dimensional vectors.\n",
        "network.add(layers.Dense(32, activation='sigmoid', input_shape=(28 * 28, )))\n",
        "network.add(layers.Dense(8, activation='sigmoid'))\n",
        "network.add(layers.Dense(16, activation='sigmoid'))\n",
        "network.add(layers.Dense(24, activation='sigmoid'))\n",
        "network.add(layers.Dense(10, activation='softmax'))\n",
        "network.summary()"
      ],
      "execution_count": 13,
      "outputs": [
        {
          "output_type": "stream",
          "name": "stdout",
          "text": [
            "Model: \"sequential_3\"\n",
            "_________________________________________________________________\n",
            " Layer (type)                Output Shape              Param #   \n",
            "=================================================================\n",
            " dense_10 (Dense)            (None, 32)                25120     \n",
            "                                                                 \n",
            " dense_11 (Dense)            (None, 8)                 264       \n",
            "                                                                 \n",
            " dense_12 (Dense)            (None, 16)                144       \n",
            "                                                                 \n",
            " dense_13 (Dense)            (None, 24)                408       \n",
            "                                                                 \n",
            " dense_14 (Dense)            (None, 10)                250       \n",
            "                                                                 \n",
            "=================================================================\n",
            "Total params: 26,186\n",
            "Trainable params: 26,186\n",
            "Non-trainable params: 0\n",
            "_________________________________________________________________\n"
          ]
        }
      ]
    },
    {
      "cell_type": "markdown",
      "metadata": {
        "id": "Af2c2tvKzp5f"
      },
      "source": [
        "- Our network consists of a sequence of two *Dense* layers, which are densely connected (also called *fully connected*) neural layers.\n",
        "- The second (and last) layer is a **10-way** *softmax* layer, which means it will return an array of **10** probability scores. Each score will be the probability that the current digit image belongs to one of our 10 digit classes. "
      ]
    },
    {
      "cell_type": "markdown",
      "metadata": {
        "id": "NHbqJ-rWzp5g"
      },
      "source": [
        "# The compilation step"
      ]
    },
    {
      "cell_type": "markdown",
      "metadata": {
        "id": "1w0ne5wYzp5h"
      },
      "source": [
        "- To make the network ready for training, we need to pick three more things, as part of the **compilation** step:\n",
        " - **A loss function**-- How the network will be able to measure its performance on the training data, and thus how it will be able to steer itself in the right direction.\n",
        " - **An optimizer**--The mechanism through which the network will update itself based on the data it sees and its loss function.\n",
        " - **Metrics to monitor during training and testing**--Here, we will only care about accuracy (the fraction of the images that were correctly classified)."
      ]
    },
    {
      "cell_type": "code",
      "metadata": {
        "id": "uvSO-q9Ozp5i"
      },
      "source": [
        "network.compile(optimizer='sgd',\n",
        "                loss='categorical_crossentropy',\n",
        "                metrics=['accuracy'])\n",
        "    "
      ],
      "execution_count": 14,
      "outputs": []
    },
    {
      "cell_type": "markdown",
      "metadata": {
        "id": "fLHJqTLXzp5o"
      },
      "source": [
        "# Preparing the image data"
      ]
    },
    {
      "cell_type": "markdown",
      "metadata": {
        "id": "ajWKVl1-zp5q"
      },
      "source": [
        "Before training, we will preprocess the data by reshaping it into the shape the network expects and scaling it so that all values are in the $[0-1]$ interval."
      ]
    },
    {
      "cell_type": "code",
      "metadata": {
        "id": "4vMdz75Wzp5s"
      },
      "source": [
        "train_images = train_images.reshape((60000, 28 * 28))\n",
        "train_images = train_images.astype('float32') / 255."
      ],
      "execution_count": 15,
      "outputs": []
    },
    {
      "cell_type": "code",
      "metadata": {
        "id": "4icW7vDgzp5w"
      },
      "source": [
        "test_images = test_images.reshape((10000, 28 * 28))\n",
        "test_images = test_images.astype('float32') / 255."
      ],
      "execution_count": 16,
      "outputs": []
    },
    {
      "cell_type": "markdown",
      "metadata": {
        "id": "0SHD8Vvhzp5z"
      },
      "source": [
        "# Preparing the labels"
      ]
    },
    {
      "cell_type": "markdown",
      "metadata": {
        "id": "JA1YmuF1zp51"
      },
      "source": [
        "We also need to categorically encode the labels."
      ]
    },
    {
      "cell_type": "code",
      "metadata": {
        "id": "Bh42ABtgzp58"
      },
      "source": [
        "from keras.utils import to_categorical"
      ],
      "execution_count": 17,
      "outputs": []
    },
    {
      "cell_type": "code",
      "metadata": {
        "id": "3eCqlapJzp6A",
        "colab": {
          "base_uri": "https://localhost:8080/"
        },
        "outputId": "b79135b2-5b7c-4229-96ad-e040d0cf68f1"
      },
      "source": [
        "train_labels = to_categorical(train_labels)\n",
        "train_labels"
      ],
      "execution_count": 18,
      "outputs": [
        {
          "output_type": "execute_result",
          "data": {
            "text/plain": [
              "array([[0., 0., 0., ..., 0., 0., 0.],\n",
              "       [1., 0., 0., ..., 0., 0., 0.],\n",
              "       [0., 0., 0., ..., 0., 0., 0.],\n",
              "       ...,\n",
              "       [0., 0., 0., ..., 0., 0., 0.],\n",
              "       [0., 0., 0., ..., 0., 0., 0.],\n",
              "       [0., 0., 0., ..., 0., 1., 0.]], dtype=float32)"
            ]
          },
          "metadata": {},
          "execution_count": 18
        }
      ]
    },
    {
      "cell_type": "code",
      "metadata": {
        "id": "wWXDQKNBzp6E",
        "colab": {
          "base_uri": "https://localhost:8080/"
        },
        "outputId": "b5fbb59c-7066-4476-c7e8-31b539ce0c52"
      },
      "source": [
        "test_labels = to_categorical(test_labels)\n",
        "test_labels"
      ],
      "execution_count": 19,
      "outputs": [
        {
          "output_type": "execute_result",
          "data": {
            "text/plain": [
              "array([[0., 0., 0., ..., 1., 0., 0.],\n",
              "       [0., 0., 1., ..., 0., 0., 0.],\n",
              "       [0., 1., 0., ..., 0., 0., 0.],\n",
              "       ...,\n",
              "       [0., 0., 0., ..., 0., 0., 0.],\n",
              "       [0., 0., 0., ..., 0., 0., 0.],\n",
              "       [0., 0., 0., ..., 0., 0., 0.]], dtype=float32)"
            ]
          },
          "metadata": {},
          "execution_count": 19
        }
      ]
    },
    {
      "cell_type": "markdown",
      "metadata": {
        "id": "csJ7yQVxzp6I"
      },
      "source": [
        "# Training and Testing"
      ]
    },
    {
      "cell_type": "markdown",
      "metadata": {
        "id": "P-KLV-VIzp6K"
      },
      "source": [
        "We are now ready to train the network, which in Keras is done via a call to the network's fit method--we fit the model to its training data:"
      ]
    },
    {
      "cell_type": "code",
      "metadata": {
        "id": "sGWa7zXYzp6O",
        "colab": {
          "base_uri": "https://localhost:8080/"
        },
        "outputId": "4671937f-ad66-408e-cc40-3430db32dd72"
      },
      "source": [
        "network.fit(train_images, train_labels, epochs=120, batch_size=64)"
      ],
      "execution_count": 26,
      "outputs": [
        {
          "output_type": "stream",
          "name": "stdout",
          "text": [
            "Epoch 1/120\n",
            "938/938 [==============================] - 4s 4ms/step - loss: 2.3006 - accuracy: 0.1123\n",
            "Epoch 2/120\n",
            "938/938 [==============================] - 3s 3ms/step - loss: 2.3004 - accuracy: 0.1124\n",
            "Epoch 3/120\n",
            "938/938 [==============================] - 3s 3ms/step - loss: 2.3003 - accuracy: 0.1143\n",
            "Epoch 4/120\n",
            "938/938 [==============================] - 3s 3ms/step - loss: 2.3001 - accuracy: 0.1124\n",
            "Epoch 5/120\n",
            "938/938 [==============================] - 3s 4ms/step - loss: 2.2998 - accuracy: 0.1139\n",
            "Epoch 6/120\n",
            "938/938 [==============================] - 3s 3ms/step - loss: 2.2996 - accuracy: 0.1124\n",
            "Epoch 7/120\n",
            "938/938 [==============================] - 3s 3ms/step - loss: 2.2993 - accuracy: 0.1124\n",
            "Epoch 8/120\n",
            "938/938 [==============================] - 3s 3ms/step - loss: 2.2990 - accuracy: 0.1125\n",
            "Epoch 9/120\n",
            "938/938 [==============================] - 3s 3ms/step - loss: 2.2987 - accuracy: 0.1124\n",
            "Epoch 10/120\n",
            "938/938 [==============================] - 4s 4ms/step - loss: 2.2982 - accuracy: 0.1127\n",
            "Epoch 11/120\n",
            "938/938 [==============================] - 3s 3ms/step - loss: 2.2978 - accuracy: 0.1124\n",
            "Epoch 12/120\n",
            "938/938 [==============================] - 4s 4ms/step - loss: 2.2972 - accuracy: 0.1188\n",
            "Epoch 13/120\n",
            "938/938 [==============================] - 3s 3ms/step - loss: 2.2965 - accuracy: 0.1163\n",
            "Epoch 14/120\n",
            "938/938 [==============================] - 3s 3ms/step - loss: 2.2957 - accuracy: 0.1133\n",
            "Epoch 15/120\n",
            "938/938 [==============================] - 3s 3ms/step - loss: 2.2947 - accuracy: 0.1160\n",
            "Epoch 16/120\n",
            "938/938 [==============================] - 4s 5ms/step - loss: 2.2934 - accuracy: 0.1289\n",
            "Epoch 17/120\n",
            "938/938 [==============================] - 3s 3ms/step - loss: 2.2918 - accuracy: 0.1228\n",
            "Epoch 18/120\n",
            "938/938 [==============================] - 3s 3ms/step - loss: 2.2898 - accuracy: 0.1246\n",
            "Epoch 19/120\n",
            "938/938 [==============================] - 3s 3ms/step - loss: 2.2870 - accuracy: 0.1415\n",
            "Epoch 20/120\n",
            "938/938 [==============================] - 4s 4ms/step - loss: 2.2831 - accuracy: 0.1678\n",
            "Epoch 21/120\n",
            "938/938 [==============================] - 3s 3ms/step - loss: 2.2774 - accuracy: 0.1665\n",
            "Epoch 22/120\n",
            "938/938 [==============================] - 3s 3ms/step - loss: 2.2690 - accuracy: 0.2036\n",
            "Epoch 23/120\n",
            "938/938 [==============================] - 3s 4ms/step - loss: 2.2556 - accuracy: 0.2197\n",
            "Epoch 24/120\n",
            "938/938 [==============================] - 3s 4ms/step - loss: 2.2329 - accuracy: 0.2444\n",
            "Epoch 25/120\n",
            "938/938 [==============================] - 3s 3ms/step - loss: 2.1931 - accuracy: 0.2704\n",
            "Epoch 26/120\n",
            "938/938 [==============================] - 3s 3ms/step - loss: 2.1252 - accuracy: 0.2864\n",
            "Epoch 27/120\n",
            "938/938 [==============================] - 3s 4ms/step - loss: 2.0291 - accuracy: 0.2865\n",
            "Epoch 28/120\n",
            "938/938 [==============================] - 3s 3ms/step - loss: 1.9313 - accuracy: 0.2866\n",
            "Epoch 29/120\n",
            "938/938 [==============================] - 3s 4ms/step - loss: 1.8586 - accuracy: 0.2962\n",
            "Epoch 30/120\n",
            "938/938 [==============================] - 3s 3ms/step - loss: 1.8096 - accuracy: 0.3106\n",
            "Epoch 31/120\n",
            "938/938 [==============================] - 4s 4ms/step - loss: 1.7723 - accuracy: 0.3233\n",
            "Epoch 32/120\n",
            "938/938 [==============================] - 3s 3ms/step - loss: 1.7381 - accuracy: 0.3379\n",
            "Epoch 33/120\n",
            "938/938 [==============================] - 3s 3ms/step - loss: 1.7047 - accuracy: 0.3444\n",
            "Epoch 34/120\n",
            "938/938 [==============================] - 3s 3ms/step - loss: 1.6713 - accuracy: 0.3511\n",
            "Epoch 35/120\n",
            "938/938 [==============================] - 4s 4ms/step - loss: 1.6377 - accuracy: 0.3539\n",
            "Epoch 36/120\n",
            "938/938 [==============================] - 3s 3ms/step - loss: 1.6046 - accuracy: 0.3572\n",
            "Epoch 37/120\n",
            "938/938 [==============================] - 3s 3ms/step - loss: 1.5729 - accuracy: 0.3601\n",
            "Epoch 38/120\n",
            "938/938 [==============================] - 3s 3ms/step - loss: 1.5438 - accuracy: 0.3647\n",
            "Epoch 39/120\n",
            "938/938 [==============================] - 4s 4ms/step - loss: 1.5177 - accuracy: 0.3657\n",
            "Epoch 40/120\n",
            "938/938 [==============================] - 3s 3ms/step - loss: 1.4945 - accuracy: 0.3725\n",
            "Epoch 41/120\n",
            "938/938 [==============================] - 3s 3ms/step - loss: 1.4729 - accuracy: 0.3790\n",
            "Epoch 42/120\n",
            "938/938 [==============================] - 3s 3ms/step - loss: 1.4523 - accuracy: 0.3892\n",
            "Epoch 43/120\n",
            "938/938 [==============================] - 4s 4ms/step - loss: 1.4320 - accuracy: 0.3986\n",
            "Epoch 44/120\n",
            "938/938 [==============================] - 3s 3ms/step - loss: 1.4107 - accuracy: 0.4129\n",
            "Epoch 45/120\n",
            "938/938 [==============================] - 3s 3ms/step - loss: 1.3877 - accuracy: 0.4306\n",
            "Epoch 46/120\n",
            "938/938 [==============================] - 3s 3ms/step - loss: 1.3621 - accuracy: 0.4541\n",
            "Epoch 47/120\n",
            "938/938 [==============================] - 4s 4ms/step - loss: 1.3332 - accuracy: 0.4807\n",
            "Epoch 48/120\n",
            "938/938 [==============================] - 3s 3ms/step - loss: 1.3012 - accuracy: 0.5052\n",
            "Epoch 49/120\n",
            "938/938 [==============================] - 3s 3ms/step - loss: 1.2671 - accuracy: 0.5206\n",
            "Epoch 50/120\n",
            "938/938 [==============================] - 4s 4ms/step - loss: 1.2325 - accuracy: 0.5357\n",
            "Epoch 51/120\n",
            "938/938 [==============================] - 3s 4ms/step - loss: 1.1987 - accuracy: 0.5547\n",
            "Epoch 52/120\n",
            "938/938 [==============================] - 3s 3ms/step - loss: 1.1664 - accuracy: 0.5696\n",
            "Epoch 53/120\n",
            "938/938 [==============================] - 3s 3ms/step - loss: 1.1359 - accuracy: 0.5886\n",
            "Epoch 54/120\n",
            "938/938 [==============================] - 3s 3ms/step - loss: 1.1067 - accuracy: 0.6089\n",
            "Epoch 55/120\n",
            "938/938 [==============================] - 3s 4ms/step - loss: 1.0780 - accuracy: 0.6297\n",
            "Epoch 56/120\n",
            "938/938 [==============================] - 3s 3ms/step - loss: 1.0493 - accuracy: 0.6507\n",
            "Epoch 57/120\n",
            "938/938 [==============================] - 3s 3ms/step - loss: 1.0201 - accuracy: 0.6707\n",
            "Epoch 58/120\n",
            "938/938 [==============================] - 3s 4ms/step - loss: 0.9901 - accuracy: 0.6909\n",
            "Epoch 59/120\n",
            "938/938 [==============================] - 3s 3ms/step - loss: 0.9600 - accuracy: 0.7064\n",
            "Epoch 60/120\n",
            "938/938 [==============================] - 3s 3ms/step - loss: 0.9304 - accuracy: 0.7188\n",
            "Epoch 61/120\n",
            "938/938 [==============================] - 3s 3ms/step - loss: 0.9016 - accuracy: 0.7304\n",
            "Epoch 62/120\n",
            "938/938 [==============================] - 4s 4ms/step - loss: 0.8746 - accuracy: 0.7418\n",
            "Epoch 63/120\n",
            "938/938 [==============================] - 3s 3ms/step - loss: 0.8494 - accuracy: 0.7498\n",
            "Epoch 64/120\n",
            "938/938 [==============================] - 3s 3ms/step - loss: 0.8257 - accuracy: 0.7609\n",
            "Epoch 65/120\n",
            "938/938 [==============================] - 3s 3ms/step - loss: 0.8034 - accuracy: 0.7703\n",
            "Epoch 66/120\n",
            "938/938 [==============================] - 4s 4ms/step - loss: 0.7820 - accuracy: 0.7815\n",
            "Epoch 67/120\n",
            "938/938 [==============================] - 3s 3ms/step - loss: 0.7612 - accuracy: 0.7907\n",
            "Epoch 68/120\n",
            "938/938 [==============================] - 3s 3ms/step - loss: 0.7410 - accuracy: 0.8002\n",
            "Epoch 69/120\n",
            "938/938 [==============================] - 3s 3ms/step - loss: 0.7215 - accuracy: 0.8083\n",
            "Epoch 70/120\n",
            "938/938 [==============================] - 4s 4ms/step - loss: 0.7027 - accuracy: 0.8159\n",
            "Epoch 71/120\n",
            "938/938 [==============================] - 3s 3ms/step - loss: 0.6844 - accuracy: 0.8228\n",
            "Epoch 72/120\n",
            "938/938 [==============================] - 3s 3ms/step - loss: 0.6669 - accuracy: 0.8300\n",
            "Epoch 73/120\n",
            "938/938 [==============================] - 3s 3ms/step - loss: 0.6504 - accuracy: 0.8364\n",
            "Epoch 74/120\n",
            "938/938 [==============================] - 3s 4ms/step - loss: 0.6343 - accuracy: 0.8422\n",
            "Epoch 75/120\n",
            "938/938 [==============================] - 3s 3ms/step - loss: 0.6192 - accuracy: 0.8481\n",
            "Epoch 76/120\n",
            "938/938 [==============================] - 3s 3ms/step - loss: 0.6045 - accuracy: 0.8535\n",
            "Epoch 77/120\n",
            "938/938 [==============================] - 3s 3ms/step - loss: 0.5905 - accuracy: 0.8574\n",
            "Epoch 78/120\n",
            "938/938 [==============================] - 3s 3ms/step - loss: 0.5774 - accuracy: 0.8620\n",
            "Epoch 79/120\n",
            "938/938 [==============================] - 3s 3ms/step - loss: 0.5649 - accuracy: 0.8666\n",
            "Epoch 80/120\n",
            "938/938 [==============================] - 3s 3ms/step - loss: 0.5528 - accuracy: 0.8694\n",
            "Epoch 81/120\n",
            "938/938 [==============================] - 3s 4ms/step - loss: 0.5412 - accuracy: 0.8728\n",
            "Epoch 82/120\n",
            "938/938 [==============================] - 3s 3ms/step - loss: 0.5303 - accuracy: 0.8760\n",
            "Epoch 83/120\n",
            "938/938 [==============================] - 3s 3ms/step - loss: 0.5195 - accuracy: 0.8790\n",
            "Epoch 84/120\n",
            "938/938 [==============================] - 3s 3ms/step - loss: 0.5097 - accuracy: 0.8820\n",
            "Epoch 85/120\n",
            "938/938 [==============================] - 3s 4ms/step - loss: 0.5000 - accuracy: 0.8846\n",
            "Epoch 86/120\n",
            "938/938 [==============================] - 3s 3ms/step - loss: 0.4906 - accuracy: 0.8873\n",
            "Epoch 87/120\n",
            "938/938 [==============================] - 3s 3ms/step - loss: 0.4818 - accuracy: 0.8895\n",
            "Epoch 88/120\n",
            "938/938 [==============================] - 3s 3ms/step - loss: 0.4735 - accuracy: 0.8919\n",
            "Epoch 89/120\n",
            "938/938 [==============================] - 4s 4ms/step - loss: 0.4651 - accuracy: 0.8943\n",
            "Epoch 90/120\n",
            "938/938 [==============================] - 3s 3ms/step - loss: 0.4572 - accuracy: 0.8956\n",
            "Epoch 91/120\n",
            "938/938 [==============================] - 4s 4ms/step - loss: 0.4495 - accuracy: 0.8982\n",
            "Epoch 92/120\n",
            "938/938 [==============================] - 3s 3ms/step - loss: 0.4421 - accuracy: 0.8997\n",
            "Epoch 93/120\n",
            "938/938 [==============================] - 4s 4ms/step - loss: 0.4349 - accuracy: 0.9012\n",
            "Epoch 94/120\n",
            "938/938 [==============================] - 3s 3ms/step - loss: 0.4284 - accuracy: 0.9024\n",
            "Epoch 95/120\n",
            "938/938 [==============================] - 3s 3ms/step - loss: 0.4219 - accuracy: 0.9046\n",
            "Epoch 96/120\n",
            "938/938 [==============================] - 3s 3ms/step - loss: 0.4154 - accuracy: 0.9063\n",
            "Epoch 97/120\n",
            "938/938 [==============================] - 4s 4ms/step - loss: 0.4094 - accuracy: 0.9072\n",
            "Epoch 98/120\n",
            "938/938 [==============================] - 3s 3ms/step - loss: 0.4034 - accuracy: 0.9089\n",
            "Epoch 99/120\n",
            "938/938 [==============================] - 3s 3ms/step - loss: 0.3981 - accuracy: 0.9101\n",
            "Epoch 100/120\n",
            "938/938 [==============================] - 3s 3ms/step - loss: 0.3926 - accuracy: 0.9106\n",
            "Epoch 101/120\n",
            "938/938 [==============================] - 4s 4ms/step - loss: 0.3876 - accuracy: 0.9121\n",
            "Epoch 102/120\n",
            "938/938 [==============================] - 3s 3ms/step - loss: 0.3826 - accuracy: 0.9131\n",
            "Epoch 103/120\n",
            "938/938 [==============================] - 3s 3ms/step - loss: 0.3778 - accuracy: 0.9140\n",
            "Epoch 104/120\n",
            "938/938 [==============================] - 3s 4ms/step - loss: 0.3728 - accuracy: 0.9157\n",
            "Epoch 105/120\n",
            "938/938 [==============================] - 3s 4ms/step - loss: 0.3685 - accuracy: 0.9160\n",
            "Epoch 106/120\n",
            "938/938 [==============================] - 3s 3ms/step - loss: 0.3643 - accuracy: 0.9169\n",
            "Epoch 107/120\n",
            "938/938 [==============================] - 3s 3ms/step - loss: 0.3598 - accuracy: 0.9176\n",
            "Epoch 108/120\n",
            "938/938 [==============================] - 3s 4ms/step - loss: 0.3560 - accuracy: 0.9187\n",
            "Epoch 109/120\n",
            "938/938 [==============================] - 3s 4ms/step - loss: 0.3518 - accuracy: 0.9200\n",
            "Epoch 110/120\n",
            "938/938 [==============================] - 3s 3ms/step - loss: 0.3485 - accuracy: 0.9203\n",
            "Epoch 111/120\n",
            "938/938 [==============================] - 4s 4ms/step - loss: 0.3449 - accuracy: 0.9213\n",
            "Epoch 112/120\n",
            "938/938 [==============================] - 4s 4ms/step - loss: 0.3409 - accuracy: 0.9219\n",
            "Epoch 113/120\n",
            "938/938 [==============================] - 3s 3ms/step - loss: 0.3378 - accuracy: 0.9222\n",
            "Epoch 114/120\n",
            "938/938 [==============================] - 3s 3ms/step - loss: 0.3344 - accuracy: 0.9235\n",
            "Epoch 115/120\n",
            "938/938 [==============================] - 3s 3ms/step - loss: 0.3310 - accuracy: 0.9240\n",
            "Epoch 116/120\n",
            "938/938 [==============================] - 4s 4ms/step - loss: 0.3280 - accuracy: 0.9252\n",
            "Epoch 117/120\n",
            "938/938 [==============================] - 3s 3ms/step - loss: 0.3249 - accuracy: 0.9256\n",
            "Epoch 118/120\n",
            "938/938 [==============================] - 3s 3ms/step - loss: 0.3218 - accuracy: 0.9267\n",
            "Epoch 119/120\n",
            "938/938 [==============================] - 3s 3ms/step - loss: 0.3190 - accuracy: 0.9275\n",
            "Epoch 120/120\n",
            "938/938 [==============================] - 4s 4ms/step - loss: 0.3160 - accuracy: 0.9279\n"
          ]
        },
        {
          "output_type": "execute_result",
          "data": {
            "text/plain": [
              "<keras.callbacks.History at 0x7f3a81c299a0>"
            ]
          },
          "metadata": {},
          "execution_count": 26
        }
      ]
    },
    {
      "cell_type": "markdown",
      "metadata": {
        "id": "heVasO26zp6V"
      },
      "source": [
        "- Two quantities are displayed during training:\n",
        "    - The loss of the network over the training data\n",
        "    - The accuracy of the network over the training data\n",
        "    \n",
        "- We quickly reach an accuracy of **$0.9886 (98.86\\%)$** on the training data."
      ]
    },
    {
      "cell_type": "markdown",
      "metadata": {
        "id": "0eDaNGAYzp6X"
      },
      "source": [
        "- Now let's check that the model performs well on the test set, too:"
      ]
    },
    {
      "cell_type": "code",
      "metadata": {
        "id": "2-UhmyTWzp6Y",
        "colab": {
          "base_uri": "https://localhost:8080/"
        },
        "outputId": "0e3e9917-e0fe-4d1a-9379-dbb72c6c97df"
      },
      "source": [
        "test_loss, test_acc = network.evaluate(test_images, test_labels)"
      ],
      "execution_count": 27,
      "outputs": [
        {
          "output_type": "stream",
          "name": "stdout",
          "text": [
            "313/313 [==============================] - 1s 2ms/step - loss: 0.3613 - accuracy: 0.9201\n"
          ]
        }
      ]
    },
    {
      "cell_type": "code",
      "metadata": {
        "id": "omz-cZXLzp6d",
        "colab": {
          "base_uri": "https://localhost:8080/"
        },
        "outputId": "40fdf176-3d49-48ab-c95a-81c9e9d723a4"
      },
      "source": [
        "print('Test Accuracy: {:.5f} '.format(test_acc))"
      ],
      "execution_count": 28,
      "outputs": [
        {
          "output_type": "stream",
          "name": "stdout",
          "text": [
            "Test Accuracy: 0.92010 \n"
          ]
        }
      ]
    },
    {
      "cell_type": "code",
      "metadata": {
        "id": "cbIp64KFzp6g",
        "colab": {
          "base_uri": "https://localhost:8080/"
        },
        "outputId": "792bc69a-27b9-45e2-ef24-a257f43e080a"
      },
      "source": [
        "test_acc"
      ],
      "execution_count": 29,
      "outputs": [
        {
          "output_type": "execute_result",
          "data": {
            "text/plain": [
              "0.9200999736785889"
            ]
          },
          "metadata": {},
          "execution_count": 29
        }
      ]
    },
    {
      "cell_type": "markdown",
      "metadata": {
        "id": "yi5jDr-0zp6k"
      },
      "source": [
        "- The test-set accuracy turns out to be $97.780\\%$--that is quite a bit lower than the training set accuracy. This gap between training and test accuracy is an example of **overfitting**:the fact that the ML models tend to perform worse on new data than on their training data."
      ]
    },
    {
      "cell_type": "code",
      "metadata": {
        "id": "JOu1IQW6zp6l",
        "colab": {
          "base_uri": "https://localhost:8080/",
          "height": 564
        },
        "outputId": "d2fb18c1-973f-4863-bca6-31e66f60aaa8"
      },
      "source": [
        "from keras.utils import plot_model\n",
        "plot_model(network, to_file='model.png')"
      ],
      "execution_count": 30,
      "outputs": [
        {
          "output_type": "execute_result",
          "data": {
            "image/png": "[encoded data removed]",
            "text/plain": [
              "<IPython.core.display.Image object>"
            ]
          },
          "metadata": {},
          "execution_count": 30
        }
      ]
    },
    {
      "cell_type": "code",
      "metadata": {
        "id": "LVvUxpAkOQuz",
        "colab": {
          "base_uri": "https://localhost:8080/",
          "height": 764
        },
        "outputId": "2ccc91e9-7d5f-48f8-b6ba-d64a874d6ec1"
      },
      "source": [
        "import matplotlib.pyplot as plt\n",
        "history =network.fit(train_images, train_labels, validation_split=0.33,epochs=5, batch_size=512)\n",
        "history_dict = history.history\n",
        "print(history_dict.keys())\n",
        "plt.plot(history.history['accuracy'])\n",
        "plt.plot(history.history['val_accuracy'])\n",
        "plt.title('Model accuracy')\n",
        "plt.ylabel('Accuracy')\n",
        "plt.xlabel('Epoch')\n",
        "plt.legend(['Train', 'Test'], loc='upper left')\n",
        "plt.show()\n",
        "\n",
        "# Plot training & validation loss values\n",
        "plt.plot(history.history['loss'])\n",
        "plt.plot(history.history['val_loss'])\n",
        "plt.title('Model loss')\n",
        "plt.ylabel('Loss')\n",
        "plt.xlabel('Epoch')\n",
        "plt.legend(['Train', 'Test'], loc='upper left')\n",
        "plt.show()"
      ],
      "execution_count": 31,
      "outputs": [
        {
          "output_type": "stream",
          "name": "stdout",
          "text": [
            "Epoch 1/5\n",
            "79/79 [==============================] - 1s 7ms/step - loss: 0.3156 - accuracy: 0.9281 - val_loss: 0.3026 - val_accuracy: 0.9317\n",
            "Epoch 2/5\n",
            "79/79 [==============================] - 0s 5ms/step - loss: 0.3146 - accuracy: 0.9282 - val_loss: 0.3039 - val_accuracy: 0.9303\n",
            "Epoch 3/5\n",
            "79/79 [==============================] - 0s 5ms/step - loss: 0.3140 - accuracy: 0.9281 - val_loss: 0.3029 - val_accuracy: 0.9310\n",
            "Epoch 4/5\n",
            "79/79 [==============================] - 0s 5ms/step - loss: 0.3136 - accuracy: 0.9286 - val_loss: 0.3031 - val_accuracy: 0.9316\n",
            "Epoch 5/5\n",
            "79/79 [==============================] - 0s 5ms/step - loss: 0.3133 - accuracy: 0.9287 - val_loss: 0.3032 - val_accuracy: 0.9318\n",
            "dict_keys(['loss', 'accuracy', 'val_loss', 'val_accuracy'])\n"
          ]
        },
        {
          "output_type": "display_data",
          "data": {
            "text/plain": [
              "<Figure size 432x288 with 1 Axes>"
            ],
            "image/png": "[encoded data removed]"
          },
          "metadata": {
            "needs_background": "light"
          }
        },
        {
          "output_type": "display_data",
          "data": {
            "text/plain": [
              "<Figure size 432x288 with 1 Axes>"
            ],
            "image/png": "[encoded data removed]"
          },
          "metadata": {
            "needs_background": "light"
          }
        }
      ]
    }
  ]
}